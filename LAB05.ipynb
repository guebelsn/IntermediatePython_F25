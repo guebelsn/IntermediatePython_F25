{
 "cells": [
  {
   "cell_type": "markdown",
   "id": "4fb665d2-bf43-4c4f-9fc1-0f0baac43c0b",
   "metadata": {},
   "source": [
    "# LAB05: Benchmarking Python Data Structures - Collections module\n",
    "\n",
    "### **Goals:** \n",
    "- #### Implement functions and using the collections module\n",
    "- #### Measuring Performance & Analyzing time complexity\n",
    "- #### Compare the efficiency of `list` vs `deque` and `dict` vs `Counter`\n",
    "\n",
    "---\n",
    "\n",
    "## 🎯 Learning Objectives\n",
    "\n",
    "By the end of this lab, you should be able to:\n",
    "- Use Python’s `time` and `timeit` modules to measure runtime performance.\n",
    "- Compare the efficiency of `list`, `deque`, `dict`, and `Counter`.\n",
    "- Explain observed performance differences using **Big O notation**.\n",
    "\n",
    "---\n"
   ]
  },
  {
   "cell_type": "code",
   "execution_count": null,
   "id": "5ab8358b-e327-46e7-b28d-e893c0440040",
   "metadata": {},
   "outputs": [],
   "source": [
    "# Just run this cell to import the libraries used in this notebook\n",
    "import random\n",
    "from collections import Counter, deque\n",
    "import timeit\n",
    "import time\n",
    "import matplotlib.pyplot as plt"
   ]
  },
  {
   "cell_type": "markdown",
   "id": "56a70993-2042-4ec3-9e1a-5149d6bfb1f5",
   "metadata": {},
   "source": [
    "## Background\n",
    "\n",
    "Python’s built-in `list` and `dict` types are general-purpose containers, but the `collections` module provides optimized data structures for specific use cases.\n",
    "\n",
    "In this notebook, you will:\n",
    "1. Benchmark `list` vs `deque` for queue-like operations.\n",
    "2. Benchmark `dict` vs `Counter` for counting tasks.\n",
    "3. Analyze and explain your results.\n",
    "\n",
    "---\n",
    "\n",
    "> Recall:\n",
    "> - `list.pop(0)` is **O(n)** because it must shift all elements.\n",
    "> - `deque.popleft()` is **O(1)** because it’s optimized for both ends.\n",
    "> - `Counter` is a subclass of `dict` optimized for counting frequencies.\n"
   ]
  },
  {
   "cell_type": "markdown",
   "id": "d2ae8dc5-dc61-4e93-bba7-2ce91c4a3b12",
   "metadata": {},
   "source": [
    "### Part 1: Benchmarking list vs deque - *Smoothing noisy sensor data*\n",
    "Imagine working as an environmental engineer and tracking real-time air quality. Unfortunately, the sensor readings seem to have quite a bit of noise when collecting PM2.5 levels every second at one of the stations you have to monitor.\n",
    "To smooth out the noise, one technique you can use is computing a rolling average of the readings. You want to do this efficiently. Let's see how a deque compares to a list!\n",
    "\n",
    "Run the next code cell, the code below simulates 1 million fictional air quality readings. It randomly generates sample readings and saves the values in an array. \n"
   ]
  },
  {
   "cell_type": "code",
   "execution_count": null,
   "id": "0660d26e-ef93-4baa-bb52-61b7a48a3c00",
   "metadata": {},
   "outputs": [],
   "source": [
    "# Simulate 1 million air quality readings\n",
    "pm25_data = [random.randint(5, 100) for i in range(1000000)]\n",
    "# pm25_data # Uncomment this line if you would like to see what the data is like"
   ]
  },
  {
   "cell_type": "markdown",
   "id": "3afddf49-8b16-40e3-b1fe-648862d72c40",
   "metadata": {},
   "source": [
    "**Question 1:** Write 2 python functions in the code cells below. The functions should take in **2 input arguments**: (1) a list **data** and (2) a **window_size** (with default window = 10) and **returns** a list of rolling averages\n",
    "- function **rolling_avg_list** should use *general purpose* list structure to implement rolling window averaging where the rolling window is implemented as a list\n",
    "- function **rolling_avg_deque** should use a deque data structure (from the collections library) to implement rolling window averaging where the rolling window is implemented as a deque(if you need an example on how to use the deque collection, review the reading on [Python's deque](https://realpython.com/python-deque/)"
   ]
  },
  {
   "cell_type": "code",
   "execution_count": null,
   "id": "e211753a-9f56-45dd-8d06-e1c0c49f8c2c",
   "metadata": {},
   "outputs": [],
   "source": [
    "def rolling_avg_list(data, window_size=10):\n",
    "    #TODO: implement rolling window averaging where the window is a list\n",
    "    averages = []\n",
    "    window = ...\n",
    "    ...\n",
    "    ...\n",
    "    return averages"
   ]
  },
  {
   "cell_type": "code",
   "execution_count": null,
   "id": "ec77d18b-e73b-4430-aa70-345c84cc990a",
   "metadata": {},
   "outputs": [],
   "source": [
    "def rolling_avg_deque(data, window_size=10):\n",
    "    #TODO: implement rolling window averaging where the window is a deque\n",
    "    averages = []\n",
    "    window = ...\n",
    "    ...\n",
    "    ...\n",
    "    return averages"
   ]
  },
  {
   "cell_type": "markdown",
   "id": "060e1322-f735-400a-a2d0-ab8f2f652da2",
   "metadata": {},
   "source": [
    "**Question 2:** Replace the TODO comments below and add some code to test both functions using simple asserts."
   ]
  },
  {
   "cell_type": "code",
   "execution_count": null,
   "id": "95900435-95f2-4c0e-96ab-55a123766473",
   "metadata": {},
   "outputs": [],
   "source": [
    "#TODO: create a small test list to represent input data\n",
    "small_list = ...\n",
    "#TODO: add test for rolling_avg_list\n",
    "...\n",
    "#TODO: add test for rolling_avg_deque\n",
    "...\n",
    "#TODO: add a test to make sure both functions return the same thing\n",
    "..."
   ]
  },
  {
   "cell_type": "markdown",
   "id": "b3554ffe-eb43-4645-9449-321462842693",
   "metadata": {},
   "source": [
    "**Question 3:** It's time to benchmark! Complete the code below to see how both functions perform. Use the timeit library."
   ]
  },
  {
   "cell_type": "code",
   "execution_count": null,
   "id": "687c4a47-784b-40ca-8184-6449a0abe5df",
   "metadata": {},
   "outputs": [],
   "source": [
    "# Part 1: Benchmarking list vs deque \n",
    "pm25_data = [random.randint(5, 100) for i in range(1000000)]\n",
    "start = ...\n",
    "#TODO: call rolling_avg_list with air quality data as it's input parameter, use the default window_size of 20\n",
    "end = ...\n",
    "\n",
    "list_time = ...\n",
    "print(f\"List version time: {list_time:.3f} seconds\")\n",
    "\n",
    "start = ...\n",
    "#TODO: call rolling_avg_deque with air quality data as it's input parameter, use the default window_size of 20\n",
    "end = ...\n",
    "\n",
    "deque_time = ...\n",
    "print(f\"Deque version time: {deque_time:.3f} seconds\")\n"
   ]
  },
  {
   "cell_type": "markdown",
   "id": "8dd31fe3-30c0-4dab-abfa-193a6145910f",
   "metadata": {},
   "source": [
    "**Question 4:** Discussion:\n",
    "\n",
    "1. Which method was faster and by how much?\n",
    "2. Why might it be faster to use the deque structure here?\n",
    "3. What is the Big O complexity for:\n",
    "   - `list.append()`  \n",
    "   - `deque.append()`  \n",
    "   - `list.pop(0)`  \n",
    "   - `deque.popleft()`  \n"
   ]
  },
  {
   "cell_type": "markdown",
   "id": "78e39722-e243-45b2-b036-d709b6372d50",
   "metadata": {},
   "source": [
    "*Replace this text with your answer*"
   ]
  },
  {
   "cell_type": "markdown",
   "id": "91bf9a23-b660-47b8-86a8-ab33f484d51f",
   "metadata": {},
   "source": [
    "### Part 2: Benchmarking Manual Dictionary vs Counter - *Daily e-commerce sales count*\n",
    "Imagine you’re working with e-commerce data and you have a list of all products sold in a day. You want to know which items sold the most.\n",
    "\n",
    "Run the next code cell, the code below simulates that this e-commerce data could look like. It randomly generates sample sales data and saves it in an array. "
   ]
  },
  {
   "cell_type": "code",
   "execution_count": null,
   "id": "a3c9399d-95a1-472a-8345-bb0605e2dc92",
   "metadata": {},
   "outputs": [],
   "source": [
    "# Generate sample sales data (simulate real-world e-commerce transactions)\n",
    "products = [\"laptop\", \"phone\", \"tablet\", \"headphones\", \"camera\", \"monitor\"]\n",
    "sales_data = [random.choice(products) for _ in range(1000000)]  # 1 million sales\n",
    "# sales_data # Uncomment this line if you would like to see what the data looks like"
   ]
  },
  {
   "cell_type": "markdown",
   "id": "6d0c8ff4-e351-4bb0-adb5-d0a330c9ba33",
   "metadata": {},
   "source": [
    "**Question 1:** Write 2 python functions in the code cells below. The functions should take in a list **data** as a input argument and returns a dictionary where the keys are the items in the list and the values are the counts for the item.\n",
    "- function **count_with_counter** should use the Counter from the collection library (if you need an example on how to use the Counter collection, review the reading on [Python's Counter](https://realpython.com/python-counter/)\n",
    "- function **count_with_dict** should manually create the dictionary, only using the *general purpose* dictionary container\n",
    "                                                                                                                                                            "
   ]
  },
  {
   "cell_type": "code",
   "execution_count": null,
   "id": "2d4fd2e6-432b-4133-9625-45688bee5f87",
   "metadata": {},
   "outputs": [],
   "source": [
    "def count_with_counter(data):\n",
    "    ...\n",
    "    return ..."
   ]
  },
  {
   "cell_type": "code",
   "execution_count": null,
   "id": "65d6d837-a82f-4900-b464-cec6804fad57",
   "metadata": {},
   "outputs": [],
   "source": [
    "def count_with_dict(data):\n",
    "    ...\n",
    "    return ..."
   ]
  },
  {
   "cell_type": "markdown",
   "id": "064cb7ba-0a6c-4359-a442-c2d5e2036583",
   "metadata": {},
   "source": [
    "**Question 2:** Replace the TODO comments below and add some code to test both functions using simple asserts."
   ]
  },
  {
   "cell_type": "code",
   "execution_count": null,
   "id": "f06ed022-52df-4bc5-ba81-8895bb2ae25a",
   "metadata": {},
   "outputs": [],
   "source": [
    "small_list =...\n",
    "#TODO: add test for count_with_counter\n",
    "...\n",
    "#TODO: add test for count_with_dict\n",
    "...\n",
    "#TODO: add a test to make sure both functions return the same thing\n",
    "..."
   ]
  },
  {
   "cell_type": "markdown",
   "id": "0cdbeac7-4978-4c00-aba5-bbd58afea17a",
   "metadata": {},
   "source": [
    "**Question 3:** It's time to benchmark! Complete the code below to see how both functions perform. Use the timeit library."
   ]
  },
  {
   "cell_type": "code",
   "execution_count": null,
   "id": "a17f3bce-88a9-4873-b12b-73e52c7b3f5d",
   "metadata": {},
   "outputs": [],
   "source": [
    "# Part 2: Benchmarking Manual Dictionary vs Counter\n",
    "\n",
    "from collections import Counter\n",
    "import timeit\n",
    "# Set up to use with timeit.Timer()\n",
    "setup_count = \"from __main__ import count_with_counter, count_with_dict, sales_data\"\n",
    "# Counter counting\n",
    "counter_count = ...\n",
    "\n",
    "# Manual dictionary counting\n",
    "manual_dict = ...\n",
    "\n",
    "\n",
    "print(\"=== Dict vs Counter Benchmark ===\")\n",
    "counter_time = counter_count.timeit(number = 10)\n",
    "manual_dict_time = manual_dict.timeit(number = 10)\n",
    "print(f\"Counter counting:     {counter_time:.5f} seconds\")\n",
    "print(f\"Manual dict counting: {manual_dict_time:.5f} seconds\")\n"
   ]
  },
  {
   "cell_type": "markdown",
   "id": "7817ef43-b609-4084-9d00-31c06f846ebf",
   "metadata": {},
   "source": [
    "**Question 4:** Discussion:\n",
    "1. Which method was faster and by how much?  \n",
    "2. Why might `Counter` be more efficient internally than a manual dictionary loop?  "
   ]
  },
  {
   "cell_type": "markdown",
   "id": "54251a2c-ff84-447f-868d-1b1a2c53cf3d",
   "metadata": {},
   "source": [
    "*Replace this text with your answer*"
   ]
  },
  {
   "cell_type": "markdown",
   "id": "2ab7ac0f-bb20-4e44-96d9-88405ba396cb",
   "metadata": {},
   "source": [
    "## Let's visualize using the matplotlib library!\n",
    "When comparing results, we often use visuals. The matplotlib library is a great python library that can help you do so.\n",
    "Just run the code below. The code creates a bar chart comparing the performance results using `matplotlib`.\n",
    "\n",
    "Just run this code, observe and discuss with a peer, a tutor or your instructor.\n"
   ]
  },
  {
   "cell_type": "code",
   "execution_count": null,
   "id": "b531f2b1-0ee1-42ff-95c0-edc5cd86d42d",
   "metadata": {},
   "outputs": [],
   "source": [
    "# Visualizing Results: just run this code, observe and discuss with a peer, a tutor or your instructor\n",
    "\n",
    "import matplotlib.pyplot as plt\n",
    "\n",
    "labels = ['rolling_avg_list', 'rolling_avg_deque', 'count_with_dict', 'count_with_counter']\n",
    "times = [list_time, deque_time, manual_dict_time, counter_time]\n",
    "\n",
    "plt.figure(figsize=(8,5))\n",
    "plt.barh(labels, times)\n",
    "plt.xlabel(\"Time (seconds)\")\n",
    "plt.title(\"Benchmark Comparison: list/deque and dict/Counter\")\n",
    "plt.show()\n"
   ]
  },
  {
   "cell_type": "markdown",
   "id": "953e855a-f453-4143-9404-0682fbb38297",
   "metadata": {},
   "source": [
    "## Reflection\n",
    "\n",
    "**Question:** Write a short summary of what you learned (~ 5-8 sentences or bullet points) that includes:\n",
    "\n",
    "- Key differences between `list` and `deque` for queue operations.  \n",
    "- Key differences between `dict` and `Counter` for counting.  \n",
    "- How these results align with theoretical **Big O** complexity.  \n",
    "- One real-world example (other than the ones used in this lab) where you’d prefer `deque` or `Counter`.\n",
    "- What part of this lab was most challenging and why?\n"
   ]
  },
  {
   "cell_type": "markdown",
   "id": "c0a51369-bc7b-4b96-a8a1-c32c9eb297c7",
   "metadata": {},
   "source": [
    "*Replace this text with your answer*\n"
   ]
  },
  {
   "cell_type": "markdown",
   "id": "b2585ecf-2f46-4339-b3ec-10251b76bcbf",
   "metadata": {},
   "source": [
    "### Congratulations!\n",
    "You’ve benchmarked and analyzed some of Python’s core/general vs. specialized data structures — a key skill for writing efficient code."
   ]
  },
  {
   "cell_type": "code",
   "execution_count": null,
   "id": "f6980b0e-1323-486b-9710-03d8d957a70e",
   "metadata": {},
   "outputs": [],
   "source": []
  }
 ],
 "metadata": {
  "kernelspec": {
   "display_name": "Python 3 (ipykernel)",
   "language": "python",
   "name": "python3"
  },
  "language_info": {
   "codemirror_mode": {
    "name": "ipython",
    "version": 3
   },
   "file_extension": ".py",
   "mimetype": "text/x-python",
   "name": "python",
   "nbconvert_exporter": "python",
   "pygments_lexer": "ipython3",
   "version": "3.11.13"
  }
 },
 "nbformat": 4,
 "nbformat_minor": 5
}
