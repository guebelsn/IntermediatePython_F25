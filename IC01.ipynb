{
 "cells": [
  {
   "cell_type": "markdown",
   "id": "b82a5c5a-3d02-47a3-84cc-61b83ac5a12f",
   "metadata": {},
   "source": [
    "# Week 1: Intro & Python Review\n"
   ]
  },
  {
   "cell_type": "markdown",
   "id": "32a7529d-f348-444c-a3e8-9c6e4bd5d071",
   "metadata": {},
   "source": [
    "In this notebook, we will be cover the following concepts in Python:\n",
    "- Datatypes:\n",
    "    - atomic datatypes\n",
    "    - collection datatypes\n",
    "- Conditionals\n",
    "- Loops\n",
    "- List comprehension (NEW CONCEPT!)\n"
   ]
  },
  {
   "cell_type": "markdown",
   "id": "e125ee68-cc12-4934-9389-b9ca81443cd0",
   "metadata": {},
   "source": [
    "## Data types"
   ]
  },
  {
   "cell_type": "markdown",
   "id": "7051608c-b3ef-4b98-b369-2158f6117ff4",
   "metadata": {},
   "source": [
    "### Atomic Data types: int, float, bool"
   ]
  },
  {
   "cell_type": "code",
   "execution_count": null,
   "id": "5b0d8703-3eeb-4783-97d0-079c7eb8bfd0",
   "metadata": {},
   "outputs": [],
   "source": [
    "# integers\n",
    "var1 = 54\n",
    "# float\n",
    "var2 = 3.5\n",
    "var1, var2\n"
   ]
  },
  {
   "cell_type": "code",
   "execution_count": null,
   "id": "45a4b8f1-9b45-4e60-8224-bfa653eea8c5",
   "metadata": {},
   "outputs": [],
   "source": [
    "var3 = 3+4\n",
    "result = var1 + var2 + var3\n",
    "print(var1, '+', var2, '+', var3, '=', result)\n"
   ]
  },
  {
   "cell_type": "code",
   "execution_count": null,
   "id": "193c74e2-bc1c-43a0-aca0-d07854f7e1a3",
   "metadata": {},
   "outputs": [],
   "source": [
    "isTrue = var1 > var2\n",
    "isTrue"
   ]
  },
  {
   "cell_type": "code",
   "execution_count": null,
   "id": "afbc00a2-3a76-4b9b-bd0c-2197dadc4e15",
   "metadata": {},
   "outputs": [],
   "source": [
    "isTrue = var1 < var2\n",
    "isTrue"
   ]
  },
  {
   "cell_type": "code",
   "execution_count": null,
   "id": "da9707a8-fdd1-492f-b445-225bf2ff9c37",
   "metadata": {},
   "outputs": [],
   "source": [
    "print(type(isTrue))"
   ]
  },
  {
   "cell_type": "code",
   "execution_count": null,
   "id": "90e62d33-2a8c-4cc2-8777-b88a827fa440",
   "metadata": {},
   "outputs": [],
   "source": [
    "print(type(result))"
   ]
  },
  {
   "cell_type": "markdown",
   "id": "09b828df-6f4c-4cd7-9423-9818fe4ac768",
   "metadata": {},
   "source": [
    "### Collection Data types: strings, lists, tuples, sets, dictionaries"
   ]
  },
  {
   "cell_type": "code",
   "execution_count": null,
   "id": "c9f1bef3-564f-49af-8c36-603fa4fde38b",
   "metadata": {},
   "outputs": [],
   "source": [
    "aString = \"😊\"\n",
    "aString = aString.encode('UTF-8')\n",
    "print(aString)"
   ]
  },
  {
   "cell_type": "code",
   "execution_count": null,
   "id": "23da6fd9-df6e-4caf-8880-efaa0660d957",
   "metadata": {},
   "outputs": [],
   "source": [
    "message = \"Welcome!\"\n",
    "print(message.upper())"
   ]
  },
  {
   "cell_type": "code",
   "execution_count": null,
   "id": "15acad2e-ab0d-4a6a-8b01-b5b20a8aafc7",
   "metadata": {},
   "outputs": [],
   "source": [
    "myBook = \"This is a story. It is not very exciting!!\""
   ]
  },
  {
   "cell_type": "code",
   "execution_count": null,
   "id": "b57f6ceb-2f04-46c6-b80f-3c193136eb93",
   "metadata": {},
   "outputs": [],
   "source": [
    "cleanBook = myBook.replace('.','').replace('!','').replace(' ','')\n",
    "cleanBook"
   ]
  },
  {
   "cell_type": "code",
   "execution_count": null,
   "id": "c84b13be-3d00-4cd2-bcc3-9c511b38e593",
   "metadata": {},
   "outputs": [],
   "source": [
    "num_e = cleanBook.count('e')\n",
    "num_e"
   ]
  },
  {
   "cell_type": "code",
   "execution_count": null,
   "id": "3975fbb5-ef88-4eac-b6a5-626b63ed9af2",
   "metadata": {},
   "outputs": [],
   "source": [
    "num_all = len(cleanBook)\n",
    "num_all"
   ]
  },
  {
   "cell_type": "code",
   "execution_count": null,
   "id": "4c0219a7-d03d-46f6-b459-caa8f28559a3",
   "metadata": {},
   "outputs": [],
   "source": [
    "# List\n",
    "mySBCC = [\"CS114\", 303, \"Humanities\", \"H\", 300.50, 3.0, True ]\n",
    "mySBCC[0]"
   ]
  },
  {
   "cell_type": "code",
   "execution_count": null,
   "id": "81208093-d47b-4669-a78d-ff9944b4fdbe",
   "metadata": {},
   "outputs": [],
   "source": [
    "l = len(mySBCC)"
   ]
  },
  {
   "cell_type": "code",
   "execution_count": null,
   "id": "b3b933d2-2975-4dd5-b717-fb11cba85255",
   "metadata": {},
   "outputs": [],
   "source": [
    "mySBCC[-1]"
   ]
  },
  {
   "cell_type": "code",
   "execution_count": null,
   "id": "28608ce1-99e0-4907-8775-ec1628cd034d",
   "metadata": {},
   "outputs": [],
   "source": [
    "# Tuples: an immutable list\n",
    "constantVals = ('K00007', 'Jane', 'Doe', 95.5)\n",
    "constantVals"
   ]
  },
  {
   "cell_type": "code",
   "execution_count": null,
   "id": "882e0ef1-4839-4189-9790-3a0df5ec3080",
   "metadata": {},
   "outputs": [],
   "source": [
    "constantVals[0] = 'NA' # This will give an error"
   ]
  },
  {
   "cell_type": "code",
   "execution_count": null,
   "id": "5adc618e-935b-46cb-82fd-ccb1e64ac247",
   "metadata": {},
   "outputs": [],
   "source": [
    "# sets\n",
    "data1 = {13, 33.5, 23,2,0,22}\n",
    "data2 = {0, 2, 13,100,121}\n",
    "commondata = data1.intersection(data2)\n",
    "data1, data2, commondata"
   ]
  },
  {
   "cell_type": "code",
   "execution_count": null,
   "id": "d2d96c52-627b-4c4b-8675-9309fb84c196",
   "metadata": {},
   "outputs": [],
   "source": [
    "#dictionary example\n",
    "favFoods = {'Max': 'Sushi', 'Cody':'pizza', 'Anna':'pasta'}\n",
    "favFoods"
   ]
  },
  {
   "cell_type": "markdown",
   "id": "7c1a1a9f-330f-464d-a8b9-2927f088c085",
   "metadata": {},
   "source": [
    "## In-class Practice!!\n",
    "Identify the best collection type to use and write it in Python code:\n",
    "- A list of student names\n",
    "- Coordinates that should never change\n",
    "- A collection of unique tags\n",
    "- A contact list with names and phone numbers\n"
   ]
  },
  {
   "cell_type": "code",
   "execution_count": null,
   "id": "45bef83b-7162-4074-9623-2317a4d3a58b",
   "metadata": {},
   "outputs": [],
   "source": [
    "# A list of student names\n",
    "..."
   ]
  },
  {
   "cell_type": "code",
   "execution_count": null,
   "id": "de1a65a0-9e35-4d61-a6f8-716d89c9b2cd",
   "metadata": {},
   "outputs": [],
   "source": [
    "# Coordinates that should never change\n",
    "..."
   ]
  },
  {
   "cell_type": "code",
   "execution_count": null,
   "id": "fe1bbf25-d54a-4a68-9aa6-929ee62e089e",
   "metadata": {},
   "outputs": [],
   "source": [
    "# A collection of unique tags\n",
    "..."
   ]
  },
  {
   "cell_type": "code",
   "execution_count": null,
   "id": "e9cea09a-174c-4451-b7df-a432016342bd",
   "metadata": {},
   "outputs": [],
   "source": [
    "# A contact list with names and phone numbers\n",
    "..."
   ]
  },
  {
   "cell_type": "markdown",
   "id": "eb49a8a7-5eab-49d4-b344-cdb09a51ece8",
   "metadata": {},
   "source": [
    "### Conditionals"
   ]
  },
  {
   "cell_type": "code",
   "execution_count": null,
   "id": "b63ab42d-7184-4fcc-89bd-0f701e039f64",
   "metadata": {},
   "outputs": [],
   "source": [
    "x = 13\n",
    "y = 5\n",
    "z = 4\n",
    "if x < y and x < z:\n",
    "    print(\"a\")\n",
    "elif y < x or y < z:\n",
    "    print(\"b\")\n",
    "else:\n",
    "    print(\"c\")\n"
   ]
  },
  {
   "cell_type": "code",
   "execution_count": null,
   "id": "d884da6b-136b-4a8c-9df3-079e3cceb87b",
   "metadata": {},
   "outputs": [],
   "source": []
  },
  {
   "cell_type": "markdown",
   "id": "db4e3b66-7a6f-4ed8-8df2-7de8e13c9e9a",
   "metadata": {},
   "source": [
    "### Loops"
   ]
  },
  {
   "cell_type": "code",
   "execution_count": null,
   "id": "980fc65d-32e2-436a-af77-95f41499a839",
   "metadata": {},
   "outputs": [],
   "source": [
    "nextVal = 0\n",
    "myList = [ ]\n",
    "while nextVal != -1:\n",
    "    nextVal = int(input(\"Enter next value:\"))\n",
    "    if nextVal >=0:\n",
    "        myList.append(nextVal)\n",
    "print(myList)\n",
    "    "
   ]
  },
  {
   "cell_type": "code",
   "execution_count": null,
   "id": "9ebfbaf9-bff2-4f9a-a8a9-84639836aa8a",
   "metadata": {},
   "outputs": [],
   "source": [
    "# Counting up by 2\n",
    "for i in range(0,10,2):\n",
    "    print(i)"
   ]
  },
  {
   "cell_type": "code",
   "execution_count": null,
   "id": "69b3133f-a8fb-4203-acc8-2fb9134a6438",
   "metadata": {},
   "outputs": [],
   "source": [
    "# Counting down from 5\n",
    "for i in range(5, -1, -1):\n",
    "    print(i)"
   ]
  },
  {
   "cell_type": "code",
   "execution_count": null,
   "id": "91b1c6ff-944f-4d74-8012-5a4157ab181e",
   "metadata": {},
   "outputs": [],
   "source": []
  },
  {
   "cell_type": "markdown",
   "id": "bd4a21a7-7752-46f9-8060-438ff4ca0d67",
   "metadata": {},
   "source": [
    "### List Comprehension"
   ]
  },
  {
   "cell_type": "code",
   "execution_count": null,
   "id": "c99357af-0c11-4e36-9c6c-4f49ee8ac767",
   "metadata": {},
   "outputs": [],
   "source": [
    "# Using regular for loop syntax\n",
    "numbers = [1, 2, 3, 4, 5] \n",
    "squared_numbers = [ ]  # Initialize an empty list\n",
    "for n in numbers:\n",
    "    squared_numbers.append(n * n)  # Append the squared numbers\n"
   ]
  },
  {
   "cell_type": "code",
   "execution_count": null,
   "id": "e33036bd-699f-46ec-a904-bc7ee1fe6346",
   "metadata": {},
   "outputs": [],
   "source": [
    "# Rewrite the above using list comprehension\n",
    "numbers = [1,2,3,4,5]\n",
    "squared_numbers = [n*n for n in numbers]"
   ]
  },
  {
   "cell_type": "code",
   "execution_count": null,
   "id": "012d52f1-d270-4bdb-ae64-5ce8ae97e0f0",
   "metadata": {},
   "outputs": [],
   "source": [
    "squared_numbers"
   ]
  },
  {
   "cell_type": "code",
   "execution_count": null,
   "id": "e22f4a2d-d8a3-4438-945b-ff46eca56641",
   "metadata": {},
   "outputs": [],
   "source": [
    "# How about adding a condition -> append squared numbers only if the squared number is even\n",
    "only_even_squares = [n*n for n in numbers if n*n %2 == 0]\n",
    "only_even_squares"
   ]
  },
  {
   "cell_type": "markdown",
   "id": "ca7d68a0-c682-4298-a90d-5a0b97e5d843",
   "metadata": {},
   "source": [
    "## In-Class Practice!!!\n",
    "Use list comprehension to...\n",
    "- Create a list that contains only the even values from a given list of integers \n",
    "- Test your code with the following given list: \n",
    "    myList = [13, 20, 99, 4, 44]\n"
   ]
  },
  {
   "cell_type": "code",
   "execution_count": null,
   "id": "9dbfd1d9-6d13-427d-bce8-8e7cf9c311c1",
   "metadata": {},
   "outputs": [],
   "source": [
    "myList = [13, 20, 99, 4, 44]\n",
    "..."
   ]
  },
  {
   "cell_type": "code",
   "execution_count": null,
   "id": "2be44fed-3043-46f7-8218-a5399b9892af",
   "metadata": {},
   "outputs": [],
   "source": []
  }
 ],
 "metadata": {
  "kernelspec": {
   "display_name": "Python 3 (ipykernel)",
   "language": "python",
   "name": "python3"
  },
  "language_info": {
   "codemirror_mode": {
    "name": "ipython",
    "version": 3
   },
   "file_extension": ".py",
   "mimetype": "text/x-python",
   "name": "python",
   "nbconvert_exporter": "python",
   "pygments_lexer": "ipython3",
   "version": "3.11.13"
  }
 },
 "nbformat": 4,
 "nbformat_minor": 5
}
