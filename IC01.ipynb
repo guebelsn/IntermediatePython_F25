{
 "cells": [
  {
   "cell_type": "markdown",
   "id": "b82a5c5a-3d02-47a3-84cc-61b83ac5a12f",
   "metadata": {},
   "source": [
    "# Week 1: Intro & Python Review\n"
   ]
  },
  {
   "cell_type": "markdown",
   "id": "32a7529d-f348-444c-a3e8-9c6e4bd5d071",
   "metadata": {},
   "source": [
    "In this notebook, we will be cover the following concepts in Python:\n",
    "- Datatypes:\n",
    "    - atomic datatypes\n",
    "    - collection datatypes\n",
    "- Conditionals\n",
    "- Loops\n",
    "- List comprehension (NEW CONCEPT!)\n"
   ]
  },
  {
   "cell_type": "markdown",
   "id": "e125ee68-cc12-4934-9389-b9ca81443cd0",
   "metadata": {},
   "source": [
    "## Data types"
   ]
  },
  {
   "cell_type": "markdown",
   "id": "7051608c-b3ef-4b98-b369-2158f6117ff4",
   "metadata": {},
   "source": [
    "### Atomic Data types: int, float, bool"
   ]
  },
  {
   "cell_type": "code",
   "execution_count": null,
   "id": "5b0d8703-3eeb-4783-97d0-079c7eb8bfd0",
   "metadata": {},
   "outputs": [],
   "source": []
  },
  {
   "cell_type": "code",
   "execution_count": null,
   "id": "45a4b8f1-9b45-4e60-8224-bfa653eea8c5",
   "metadata": {},
   "outputs": [],
   "source": []
  },
  {
   "cell_type": "code",
   "execution_count": null,
   "id": "193c74e2-bc1c-43a0-aca0-d07854f7e1a3",
   "metadata": {},
   "outputs": [],
   "source": []
  },
  {
   "cell_type": "code",
   "execution_count": null,
   "id": "afbc00a2-3a76-4b9b-bd0c-2197dadc4e15",
   "metadata": {},
   "outputs": [],
   "source": []
  },
  {
   "cell_type": "markdown",
   "id": "09b828df-6f4c-4cd7-9423-9818fe4ac768",
   "metadata": {},
   "source": [
    "### Collection Data types: strings, lists, tuples, sets, dictionaries"
   ]
  },
  {
   "cell_type": "code",
   "execution_count": null,
   "id": "c9f1bef3-564f-49af-8c36-603fa4fde38b",
   "metadata": {},
   "outputs": [],
   "source": []
  },
  {
   "cell_type": "code",
   "execution_count": null,
   "id": "23da6fd9-df6e-4caf-8880-efaa0660d957",
   "metadata": {},
   "outputs": [],
   "source": []
  },
  {
   "cell_type": "code",
   "execution_count": null,
   "id": "15acad2e-ab0d-4a6a-8b01-b5b20a8aafc7",
   "metadata": {},
   "outputs": [],
   "source": []
  },
  {
   "cell_type": "code",
   "execution_count": null,
   "id": "b57f6ceb-2f04-46c6-b80f-3c193136eb93",
   "metadata": {},
   "outputs": [],
   "source": []
  },
  {
   "cell_type": "code",
   "execution_count": null,
   "id": "c84b13be-3d00-4cd2-bcc3-9c511b38e593",
   "metadata": {},
   "outputs": [],
   "source": []
  },
  {
   "cell_type": "markdown",
   "id": "7c1a1a9f-330f-464d-a8b9-2927f088c085",
   "metadata": {},
   "source": [
    "## In-class Practice!!\n",
    "Identify the best collection type to use and write it in Python code:\n",
    "- A list of student names\n",
    "- Coordinates that should never change\n",
    "- A collection of unique tags\n",
    "- A contact list with names and phone numbers\n"
   ]
  },
  {
   "cell_type": "code",
   "execution_count": null,
   "id": "45bef83b-7162-4074-9623-2317a4d3a58b",
   "metadata": {},
   "outputs": [],
   "source": [
    "# A list of student names\n"
   ]
  },
  {
   "cell_type": "code",
   "execution_count": null,
   "id": "de1a65a0-9e35-4d61-a6f8-716d89c9b2cd",
   "metadata": {},
   "outputs": [],
   "source": []
  },
  {
   "cell_type": "code",
   "execution_count": null,
   "id": "fe1bbf25-d54a-4a68-9aa6-929ee62e089e",
   "metadata": {},
   "outputs": [],
   "source": []
  },
  {
   "cell_type": "code",
   "execution_count": null,
   "id": "e9cea09a-174c-4451-b7df-a432016342bd",
   "metadata": {},
   "outputs": [],
   "source": []
  },
  {
   "cell_type": "markdown",
   "id": "eb49a8a7-5eab-49d4-b344-cdb09a51ece8",
   "metadata": {},
   "source": [
    "### Conditionals"
   ]
  },
  {
   "cell_type": "code",
   "execution_count": null,
   "id": "b63ab42d-7184-4fcc-89bd-0f701e039f64",
   "metadata": {},
   "outputs": [],
   "source": []
  },
  {
   "cell_type": "code",
   "execution_count": null,
   "id": "0195dc65-9f91-4db8-88ad-fa22d2a4ee22",
   "metadata": {},
   "outputs": [],
   "source": []
  },
  {
   "cell_type": "code",
   "execution_count": null,
   "id": "10b4d42f-36db-4996-beb1-9400cf2e28a5",
   "metadata": {},
   "outputs": [],
   "source": []
  },
  {
   "cell_type": "code",
   "execution_count": null,
   "id": "d884da6b-136b-4a8c-9df3-079e3cceb87b",
   "metadata": {},
   "outputs": [],
   "source": []
  },
  {
   "cell_type": "markdown",
   "id": "db4e3b66-7a6f-4ed8-8df2-7de8e13c9e9a",
   "metadata": {},
   "source": [
    "### Loops"
   ]
  },
  {
   "cell_type": "code",
   "execution_count": null,
   "id": "9ebfbaf9-bff2-4f9a-a8a9-84639836aa8a",
   "metadata": {},
   "outputs": [],
   "source": []
  },
  {
   "cell_type": "code",
   "execution_count": null,
   "id": "69b3133f-a8fb-4203-acc8-2fb9134a6438",
   "metadata": {},
   "outputs": [],
   "source": []
  },
  {
   "cell_type": "code",
   "execution_count": null,
   "id": "7d29df9e-ed2f-4ba9-8c23-014954bff9e7",
   "metadata": {},
   "outputs": [],
   "source": []
  },
  {
   "cell_type": "code",
   "execution_count": null,
   "id": "91b1c6ff-944f-4d74-8012-5a4157ab181e",
   "metadata": {},
   "outputs": [],
   "source": []
  },
  {
   "cell_type": "markdown",
   "id": "bd4a21a7-7752-46f9-8060-438ff4ca0d67",
   "metadata": {},
   "source": [
    "### List Comprehension"
   ]
  },
  {
   "cell_type": "code",
   "execution_count": null,
   "id": "c99357af-0c11-4e36-9c6c-4f49ee8ac767",
   "metadata": {},
   "outputs": [],
   "source": []
  },
  {
   "cell_type": "code",
   "execution_count": null,
   "id": "e33036bd-699f-46ec-a904-bc7ee1fe6346",
   "metadata": {},
   "outputs": [],
   "source": []
  },
  {
   "cell_type": "code",
   "execution_count": null,
   "id": "012d52f1-d270-4bdb-ae64-5ce8ae97e0f0",
   "metadata": {},
   "outputs": [],
   "source": []
  },
  {
   "cell_type": "code",
   "execution_count": null,
   "id": "e22f4a2d-d8a3-4438-945b-ff46eca56641",
   "metadata": {},
   "outputs": [],
   "source": []
  },
  {
   "cell_type": "markdown",
   "id": "ca7d68a0-c682-4298-a90d-5a0b97e5d843",
   "metadata": {},
   "source": [
    "## In-Class Practice!!!\n",
    "Use list comprehension to...\n",
    "- Create a list that contains only the even values from a given list of integers \n",
    "- Test your code with the following given list: \n",
    "    myList = [13, 20, 99, 4, 44]\n"
   ]
  },
  {
   "cell_type": "code",
   "execution_count": 3,
   "id": "9dbfd1d9-6d13-427d-bce8-8e7cf9c311c1",
   "metadata": {},
   "outputs": [],
   "source": [
    "myList = [13, 20, 99, 4, 44]\n",
    "..."
   ]
  },
  {
   "cell_type": "code",
   "execution_count": null,
   "id": "2be44fed-3043-46f7-8218-a5399b9892af",
   "metadata": {},
   "outputs": [],
   "source": []
  }
 ],
 "metadata": {
  "kernelspec": {
   "display_name": "Python 3 (ipykernel)",
   "language": "python",
   "name": "python3"
  },
  "language_info": {
   "codemirror_mode": {
    "name": "ipython",
    "version": 3
   },
   "file_extension": ".py",
   "mimetype": "text/x-python",
   "name": "python",
   "nbconvert_exporter": "python",
   "pygments_lexer": "ipython3",
   "version": "3.11.13"
  }
 },
 "nbformat": 4,
 "nbformat_minor": 5
}
